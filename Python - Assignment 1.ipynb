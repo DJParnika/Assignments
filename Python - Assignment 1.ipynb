{
 "cells": [
  {
   "cell_type": "markdown",
   "id": "90929482",
   "metadata": {},
   "source": [
    "# 1. In the below elements which of them are values or an expression? \n",
    "eg:- values can be integer or string and expressions will be mathematical operators.\n",
    "\n",
    "* - Expression\n",
    "\n",
    "'hello' - Value\n",
    "\n",
    "-87.8 - Value\n",
    "\n",
    "- - Expression\n",
    "\n",
    "/ - Expression\n",
    "\n",
    "+ - Expression\n",
    "\n",
    "6 - Value\n",
    "\n"
   ]
  },
  {
   "cell_type": "markdown",
   "id": "04b48af5",
   "metadata": {},
   "source": [
    "# 2. What is the difference between string and variable?\n",
    "\n",
    "A variable is anything that can be represented in a programming language that one can assign different values to. \n",
    "So a variable could hold a number, an array, a set, a string or even a function.\n",
    "\n",
    "A string is a list of characters, often represented as an array, e.g. “The quick brown fox. 1234!@#$%^&*’()_+”\n",
    "A string could be a variable. "
   ]
  },
  {
   "cell_type": "markdown",
   "id": "e6007653",
   "metadata": {},
   "source": [
    "# 3. Describe three different data types.\n",
    "\n",
    "Variables can store data of different types, and different types can do different things.\n",
    "\n",
    "Python has the following data types built-in by default, in these categories:\n",
    "\n",
    "Text Type:\tstr\n",
    "Numeric Types:\tint, float, complex\n",
    "Sequence Types:\tlist, tuple, range\n",
    "Mapping Type:\tdict\n",
    "Set Types:\tset, frozenset\n",
    "Boolean Type:\tbool\n",
    "Binary Types:\tbytes, bytearray, memoryview\n",
    "None Type:\tNoneType\n",
    "\n",
    "You can get the data type of any object by using the type() function:\n",
    "eg. x = 13\n",
    "    type(x)\n",
    "    >>>>int\n",
    "    \n",
    "Setting the Data Type\n",
    "In Python, the data type is set when you assign a value to a variable:\n",
    "eg. str1 = \"Hello World\"\n",
    "    >>>here str1 is of string data type and its value is ' Hello World'\n"
   ]
  },
  {
   "cell_type": "markdown",
   "id": "ddd1b39e",
   "metadata": {},
   "source": [
    "# 4. What is an expression made up of? What do all expressions do?\n",
    "\n",
    "\n"
   ]
  },
  {
   "cell_type": "code",
   "execution_count": null,
   "id": "833f86c5",
   "metadata": {},
   "outputs": [],
   "source": [
    "\n",
    "\n",
    "\n",
    "\n",
    "\n",
    "5. This assignment statements, like spam = 10. What is the difference between an\n",
    "expression and a statement?\n",
    "6. After running the following code, what does the variable bacon contain?\n",
    "bacon = 22\n",
    "bacon + 1\n",
    "\n",
    "7. What should the values of the following two terms be?\n",
    "'spam' +'spamspam' =\n",
    "'spam' * 3\n",
    "\n",
    "8. Why is eggs a valid variable name while 100 is invalid?\n",
    "\n"
   ]
  },
  {
   "cell_type": "markdown",
   "id": "fcd81f6c",
   "metadata": {},
   "source": [
    "# 6. After running the following code, what does the variable bacon contain?\n",
    "bacon = 22\n",
    "bacon + 1"
   ]
  },
  {
   "cell_type": "code",
   "execution_count": 2,
   "id": "a9190eb5",
   "metadata": {},
   "outputs": [],
   "source": [
    "bacon = 22"
   ]
  },
  {
   "cell_type": "code",
   "execution_count": 3,
   "id": "59346d66",
   "metadata": {},
   "outputs": [
    {
     "data": {
      "text/plain": [
       "23"
      ]
     },
     "execution_count": 3,
     "metadata": {},
     "output_type": "execute_result"
    }
   ],
   "source": [
    "bacon+1"
   ]
  },
  {
   "cell_type": "markdown",
   "id": "2f92cea6",
   "metadata": {},
   "source": [
    "# 7. What should the values of the following two terms be?\n",
    "'spam' +'spamspam'  = 'spamspamspam' #It concatinates with other string"
   ]
  },
  {
   "cell_type": "code",
   "execution_count": 4,
   "id": "3b166a06",
   "metadata": {},
   "outputs": [
    {
     "data": {
      "text/plain": [
       "'spamspamspam'"
      ]
     },
     "execution_count": 4,
     "metadata": {},
     "output_type": "execute_result"
    }
   ],
   "source": [
    "'spam' * 3 = 'spamspamspam' # spam string iterated 3 times"
   ]
  },
  {
   "cell_type": "markdown",
   "id": "43450030",
   "metadata": {},
   "source": [
    "# 8. Why is eggs a valid variable name while 100 is invalid?"
   ]
  },
  {
   "cell_type": "code",
   "execution_count": null,
   "id": "d1ca3f10",
   "metadata": {},
   "outputs": [],
   "source": [
    "100 is invalid variable name because it's starting with numeric value which is not allowed\n",
    "variable name must start with char eg. eggs"
   ]
  },
  {
   "cell_type": "markdown",
   "id": "b323a8b8",
   "metadata": {},
   "source": [
    "# 9. What three functions can be used to get the integer, floating-point number, or string version of a value?\n",
    "\n",
    "#1. To get an integer int() function is used"
   ]
  },
  {
   "cell_type": "code",
   "execution_count": 9,
   "id": "0c330e54",
   "metadata": {},
   "outputs": [],
   "source": [
    "a = 7.5"
   ]
  },
  {
   "cell_type": "code",
   "execution_count": 10,
   "id": "fa320894",
   "metadata": {},
   "outputs": [
    {
     "data": {
      "text/plain": [
       "7"
      ]
     },
     "execution_count": 10,
     "metadata": {},
     "output_type": "execute_result"
    }
   ],
   "source": [
    "int(a)"
   ]
  },
  {
   "cell_type": "code",
   "execution_count": 12,
   "id": "e86fe940",
   "metadata": {},
   "outputs": [],
   "source": [
    "b = '56'"
   ]
  },
  {
   "cell_type": "code",
   "execution_count": 13,
   "id": "da3dc794",
   "metadata": {},
   "outputs": [
    {
     "data": {
      "text/plain": [
       "str"
      ]
     },
     "execution_count": 13,
     "metadata": {},
     "output_type": "execute_result"
    }
   ],
   "source": [
    "type(b)"
   ]
  },
  {
   "cell_type": "code",
   "execution_count": 14,
   "id": "131a656f",
   "metadata": {},
   "outputs": [
    {
     "data": {
      "text/plain": [
       "56"
      ]
     },
     "execution_count": 14,
     "metadata": {},
     "output_type": "execute_result"
    }
   ],
   "source": [
    "int(b)"
   ]
  },
  {
   "cell_type": "code",
   "execution_count": null,
   "id": "ee11a270",
   "metadata": {},
   "outputs": [],
   "source": [
    "#2. similary To get floating point number float() function is used"
   ]
  },
  {
   "cell_type": "code",
   "execution_count": null,
   "id": "dc265056",
   "metadata": {},
   "outputs": [],
   "source": [
    "#3. To get string or convert something into string str() function is used"
   ]
  },
  {
   "cell_type": "markdown",
   "id": "172d2887",
   "metadata": {},
   "source": [
    "# 10 Why does this expression cause an error? How can you fix it?\n",
    "'I have eaten ' + 99 +'burritos.'\n"
   ]
  },
  {
   "cell_type": "code",
   "execution_count": 8,
   "id": "b0c50ab9",
   "metadata": {},
   "outputs": [
    {
     "data": {
      "text/plain": [
       "'I have eaten 99 burritos.'"
      ]
     },
     "execution_count": 8,
     "metadata": {},
     "output_type": "execute_result"
    }
   ],
   "source": [
    "# + operator here used to perform concatenation but it will concatenate only string values not with other data type\n",
    "# as here 99 is integer so it will throw that error\n",
    "# To fix this error need to convert 99 to string format \n",
    "'I have eaten ' + '99 ' +'burritos.'"
   ]
  },
  {
   "cell_type": "code",
   "execution_count": null,
   "id": "756d4ea7",
   "metadata": {},
   "outputs": [],
   "source": [
    "------------------ END --------------------------------"
   ]
  }
 ],
 "metadata": {
  "kernelspec": {
   "display_name": "Python 3 (ipykernel)",
   "language": "python",
   "name": "python3"
  },
  "language_info": {
   "codemirror_mode": {
    "name": "ipython",
    "version": 3
   },
   "file_extension": ".py",
   "mimetype": "text/x-python",
   "name": "python",
   "nbconvert_exporter": "python",
   "pygments_lexer": "ipython3",
   "version": "3.9.12"
  }
 },
 "nbformat": 4,
 "nbformat_minor": 5
}
